{
  "nbformat": 4,
  "nbformat_minor": 0,
  "metadata": {
    "colab": {
      "provenance": []
    },
    "kernelspec": {
      "name": "python3",
      "display_name": "Python 3"
    },
    "language_info": {
      "name": "python"
    }
  },
  "cells": [
    {
      "cell_type": "markdown",
      "source": [
        "# 1. Take user input for a stock"
      ],
      "metadata": {
        "id": "msiucRgxRoNJ"
      }
    },
    {
      "cell_type": "code",
      "source": [
        "import json\n",
        "import pandas as pd\n",
        "import json\n",
        "import requests\n",
        "import sys\n",
        "import matplotlib.pyplot as plt\n",
        "\n",
        "# Take user input for a stock (Ticker Symbol)\n",
        "ticker_symbol=input()"
      ],
      "metadata": {
        "colab": {
          "base_uri": "https://localhost:8080/"
        },
        "id": "9UHWKd2PRs8D",
        "outputId": "be6dc7c4-97f3-4080-b207-e6aa9cbe7410"
      },
      "execution_count": 1,
      "outputs": [
        {
          "name": "stdout",
          "output_type": "stream",
          "text": [
            "AAPL\n"
          ]
        }
      ]
    },
    {
      "cell_type": "markdown",
      "source": [
        "# 2. Display back to the user\n",
        "\n",
        "Ticker Name, Full Name of the Stock, Current Market\n",
        "Price, Target Mean Price, 52 week high and 52 week low. Also, output 5 of the current\n",
        "trending stock."
      ],
      "metadata": {
        "id": "hZNcAeoHRtFH"
      }
    },
    {
      "cell_type": "code",
      "source": [
        "apikey=\"JBnCf7h1MV9k8bSZ85wQraKnTfcImmpcFpAYI6Ph\"\n",
        "\n",
        "url1 = \"https://yfapi.net/v6/finance/quote\"\n",
        "url2 = \"https://yfapi.net/v11/finance/quoteSummary/\" + ticker_symbol\n",
        "url3 = \"https://yfapi.net/v1/finance/trending/US\"\n",
        "\n",
        "querystring = {\"symbols\": ticker_symbol}\n",
        "\n",
        "querystring2 = {\"symbols\": ticker_symbol,\n",
        "                \"modules\": \"financialData\"}\n",
        "\n",
        "querystring3 = {\"region\": \"US\"}\n",
        "\n",
        "headers = {\n",
        "    'x-api-key': apikey\n",
        "    }\n",
        "\n",
        "response = requests.request(\"GET\", url1, headers=headers, params=querystring)\n",
        "response2 = requests.request(\"GET\", url2, headers=headers, params=querystring2)\n",
        "response3 = requests.request(\"GET\", url3, headers=headers, params=querystring3)\n",
        "\n",
        "stock_json = response.json()\n",
        "stock_json2 = response2.json()\n",
        "stock_json3 = response3.json()"
      ],
      "metadata": {
        "id": "jCZI2U3qV3Kg"
      },
      "execution_count": 2,
      "outputs": []
    },
    {
      "cell_type": "code",
      "source": [
        "# Error Handling\n",
        "if response.status_code == 200:\n",
        "    if response.text == '{\"quoteResponse\":{\"result\":[],\"error\":null}}':\n",
        "        print(\"Please try again with a valid ticker symbol.\")\n",
        "        sys.exit()\n",
        "    else:\n",
        "        print(\"Request was successful!:\", response.text)\n",
        "        print(\"Request was successful!:\", response2.text)\n",
        "        print(\"Request was successful!::\", response3.text)\n",
        "elif response.status_code == 403:\n",
        "    print(\"Please try again with a valid API key.\")\n",
        "    sys.exit()\n",
        "else:\n",
        "    print(\"Request failed with status code:\", response.status_code)\n",
        "    sys.exit()"
      ],
      "metadata": {
        "colab": {
          "base_uri": "https://localhost:8080/"
        },
        "id": "NJsNCXFzPlFj",
        "outputId": "654182f3-b36d-428d-db1e-fa01bbe4a074"
      },
      "execution_count": 3,
      "outputs": [
        {
          "output_type": "stream",
          "name": "stdout",
          "text": [
            "Request was successful!: {\"quoteResponse\":{\"result\":[{\"language\":\"en-US\",\"region\":\"US\",\"quoteType\":\"EQUITY\",\"typeDisp\":\"Equity\",\"quoteSourceName\":\"Nasdaq Real Time Price\",\"triggerable\":true,\"customPriceAlertConfidence\":\"HIGH\",\"currency\":\"USD\",\"marketState\":\"CLOSED\",\"exchange\":\"NMS\",\"shortName\":\"Apple Inc.\",\"longName\":\"Apple Inc.\",\"messageBoardId\":\"finmb_24937\",\"exchangeTimezoneName\":\"America/New_York\",\"exchangeTimezoneShortName\":\"EDT\",\"gmtOffSetMilliseconds\":-14400000,\"market\":\"us_market\",\"esgPopulated\":false,\"regularMarketChangePercent\":0.09010277,\"regularMarketPrice\":227.725,\"hasPrePostMarketData\":true,\"firstTradeDateMilliseconds\":345479400000,\"priceHint\":2,\"postMarketChangePercent\":-0.127307,\"postMarketTime\":1727481596,\"postMarketPrice\":227.5,\"postMarketChange\":-0.289993,\"regularMarketChange\":0.20500183,\"regularMarketTime\":1727467204,\"regularMarketDayHigh\":229.52,\"regularMarketDayRange\":\"227.3 - 229.52\",\"regularMarketDayLow\":227.3,\"regularMarketVolume\":34025967,\"regularMarketPreviousClose\":227.52,\"bid\":227.59,\"ask\":240.09,\"bidSize\":5,\"askSize\":1,\"fullExchangeName\":\"NasdaqGS\",\"financialCurrency\":\"USD\",\"regularMarketOpen\":228.43,\"averageDailyVolume3Month\":54814806,\"averageDailyVolume10Day\":76087390,\"fiftyTwoWeekLowChange\":63.645004,\"fiftyTwoWeekLowChangePercent\":0.38789007,\"fiftyTwoWeekRange\":\"164.08 - 237.23\",\"fiftyTwoWeekHighChange\":-9.50499,\"fiftyTwoWeekHighChangePercent\":-0.04006656,\"fiftyTwoWeekLow\":164.08,\"fiftyTwoWeekHigh\":237.23,\"fiftyTwoWeekChangePercent\":31.102158,\"dividendDate\":1723680000,\"earningsTimestamp\":1722544200,\"earningsTimestampStart\":1730372340,\"earningsTimestampEnd\":1730721600,\"earningsCallTimestampStart\":1722546000,\"earningsCallTimestampEnd\":1722546000,\"isEarningsDateEstimate\":true,\"trailingPE\":34.714176,\"trailingAnnualDividendRate\":0.97,\"dividendRate\":1.0,\"trailingAnnualDividendYield\":0.0042633615,\"dividendYield\":0.44,\"epsTrailingTwelveMonths\":6.56,\"epsForward\":7.48,\"epsCurrentYear\":6.7,\"priceEpsCurrentYear\":33.988808,\"sharesOutstanding\":15204100096,\"bookValue\":4.382,\"fiftyDayAverage\":222.0918,\"fiftyDayAverageChange\":5.633209,\"fiftyDayAverageChangePercent\":0.025364328,\"twoHundredDayAverage\":197.18105,\"twoHundredDayAverageChange\":30.54396,\"twoHundredDayAverageChangePercent\":0.15490313,\"marketCap\":3462353911808,\"forwardPE\":30.444519,\"priceToBook\":51.96828,\"sourceInterval\":15,\"exchangeDataDelayedBy\":0,\"averageAnalystRating\":\"2.0 - Buy\",\"tradeable\":false,\"cryptoTradeable\":false,\"displayName\":\"Apple\",\"symbol\":\"AAPL\"}],\"error\":null}}\n",
            "Request was successful!: {\"quoteSummary\":{\"result\":[{\"financialData\":{\"maxAge\":86400,\"currentPrice\":{\"raw\":227.725,\"fmt\":\"227.73\"},\"targetHighPrice\":{\"raw\":300.0,\"fmt\":\"300.00\"},\"targetLowPrice\":{\"raw\":183.86,\"fmt\":\"183.86\"},\"targetMeanPrice\":{\"raw\":240.58,\"fmt\":\"240.58\"},\"targetMedianPrice\":{\"raw\":243.0,\"fmt\":\"243.00\"},\"recommendationMean\":{\"raw\":2.0,\"fmt\":\"2.00\"},\"recommendationKey\":\"buy\",\"numberOfAnalystOpinions\":{\"raw\":40,\"fmt\":\"40\",\"longFmt\":\"40\"},\"totalCash\":{\"raw\":61801000960,\"fmt\":\"61.8B\",\"longFmt\":\"61,801,000,960\"},\"totalCashPerShare\":{\"raw\":4.065,\"fmt\":\"4.07\"},\"ebitda\":{\"raw\":131781001216,\"fmt\":\"131.78B\",\"longFmt\":\"131,781,001,216\"},\"totalDebt\":{\"raw\":101304000512,\"fmt\":\"101.3B\",\"longFmt\":\"101,304,000,512\"},\"quickRatio\":{\"raw\":0.798,\"fmt\":\"0.80\"},\"currentRatio\":{\"raw\":0.953,\"fmt\":\"0.95\"},\"totalRevenue\":{\"raw\":385603010560,\"fmt\":\"385.6B\",\"longFmt\":\"385,603,010,560\"},\"debtToEquity\":{\"raw\":151.862,\"fmt\":\"151.86%\"},\"revenuePerShare\":{\"raw\":24.957,\"fmt\":\"24.96\"},\"returnOnAssets\":{\"raw\":0.22612,\"fmt\":\"22.61%\"},\"returnOnEquity\":{\"raw\":1.60583,\"fmt\":\"160.58%\"},\"grossProfits\":{},\"freeCashflow\":{\"raw\":86158123008,\"fmt\":\"86.16B\",\"longFmt\":\"86,158,123,008\"},\"operatingCashflow\":{\"raw\":113040998400,\"fmt\":\"113.04B\",\"longFmt\":\"113,040,998,400\"},\"earningsGrowth\":{\"raw\":0.111,\"fmt\":\"11.10%\"},\"revenueGrowth\":{\"raw\":0.049,\"fmt\":\"4.90%\"},\"grossMargins\":{\"raw\":0.45962003,\"fmt\":\"45.96%\"},\"ebitdaMargins\":{\"raw\":0.34175,\"fmt\":\"34.17%\"},\"operatingMargins\":{\"raw\":0.29556,\"fmt\":\"29.56%\"},\"profitMargins\":{\"raw\":0.26441,\"fmt\":\"26.44%\"},\"financialCurrency\":\"USD\"}}],\"error\":null}}\n",
            "Request was successful!:: {\"finance\":{\"result\":[{\"count\":20,\"quotes\":[{\"symbol\":\"AMSC\"},{\"symbol\":\"PWR\"},{\"symbol\":\"VRT\"},{\"symbol\":\"BBD\"},{\"symbol\":\"SNAP\"},{\"symbol\":\"RACE\"},{\"symbol\":\"SUI20947-USD\"},{\"symbol\":\"EME\"},{\"symbol\":\"XRP-USD\"},{\"symbol\":\"SPOT\"},{\"symbol\":\"PATH\"},{\"symbol\":\"VST\"},{\"symbol\":\"MRVL\"},{\"symbol\":\"CL=F\"},{\"symbol\":\"ELF\"},{\"symbol\":\"NIO\"},{\"symbol\":\"ROKU\"},{\"symbol\":\"BTC-USD\"},{\"symbol\":\"ES=F\"},{\"symbol\":\"EURUSD=X\"}],\"jobTimestamp\":1727637743243,\"startInterval\":202409291800}],\"error\":null}}\n"
          ]
        }
      ]
    },
    {
      "cell_type": "code",
      "source": [
        "full_name = stock_json[\"quoteResponse\"][\"result\"][0][\"longName\"]\n",
        "current_mp = str(stock_json[\"quoteResponse\"][\"result\"][0][\"regularMarketPrice\"])\n",
        "fifty_two_week_high = str(stock_json[\"quoteResponse\"][\"result\"][0][\"fiftyTwoWeekHigh\"])\n",
        "fifty_two_week_low = str(stock_json[\"quoteResponse\"][\"result\"][0][\"fiftyTwoWeekLow\"])\n",
        "target_mp = str(stock_json2[\"quoteSummary\"][\"result\"][0][\"financialData\"][\"targetMeanPrice\"][\"raw\"])"
      ],
      "metadata": {
        "id": "rzmvi7tQR2TY"
      },
      "execution_count": 4,
      "outputs": []
    },
    {
      "cell_type": "code",
      "source": [
        "top_5_trending_stocks = \"\"\n",
        "\n",
        "for i in range(0, 5):\n",
        "  if i < 4:\n",
        "    top_5_trending_stocks += str(stock_json3[\"finance\"][\"result\"][0][\"quotes\"][i][\"symbol\"]) + \", \"\n",
        "  else:\n",
        "    top_5_trending_stocks += str(stock_json3[\"finance\"][\"result\"][0][\"quotes\"][i][\"symbol\"])"
      ],
      "metadata": {
        "id": "HnoRWP2LCXz2"
      },
      "execution_count": 5,
      "outputs": []
    },
    {
      "cell_type": "code",
      "source": [
        "print(\"Ticker Symbol: \" + ticker_symbol + \"\\nFull Name of Stock: \" + full_name + \"\\nCurrent Market Price: \" + current_mp + \"\\nTarget Mean Price: \" + target_mp + \"\\n52 week high: \" + fifty_two_week_high + \"\\n52 week low: \" + fifty_two_week_low)\n",
        "print(\"\\n5 of the current trending stocks: \" + top_5_trending_stocks)"
      ],
      "metadata": {
        "colab": {
          "base_uri": "https://localhost:8080/"
        },
        "id": "MVDGLvPjJwB9",
        "outputId": "bd66ea93-c446-423c-d5cf-d1b33a99775c"
      },
      "execution_count": 6,
      "outputs": [
        {
          "output_type": "stream",
          "name": "stdout",
          "text": [
            "Ticker Symbol: AAPL\n",
            "Full Name of Stock: Apple Inc.\n",
            "Current Market Price: 227.725\n",
            "Target Mean Price: 240.58\n",
            "52 week high: 237.23\n",
            "52 week low: 164.08\n",
            "\n",
            "5 of the current trending stocks: AMSC, PWR, VRT, BBD, SNAP\n"
          ]
        }
      ]
    },
    {
      "cell_type": "markdown",
      "source": [
        "# 3. Put that data in a DataFrame and then store that to a CSV file"
      ],
      "metadata": {
        "id": "jbcgEdq4T_t0"
      }
    },
    {
      "cell_type": "code",
      "source": [
        "data_collected = {\n",
        "    \"Ticker Symbol\": [ticker_symbol],\n",
        "    \"Full Name of Stock\": [full_name],\n",
        "    \"Current Market Price\": [current_mp],\n",
        "    \"Target Mean Price\": [target_mp],\n",
        "    \"52 week high\": [fifty_two_week_high],\n",
        "    \"52 week low\": [fifty_two_week_low],\n",
        "    \"Top 5 Trending Stocks\": [top_5_trending_stocks]\n",
        "}\n",
        "\n",
        "df = pd.DataFrame(data_collected)\n",
        "print(df)"
      ],
      "metadata": {
        "colab": {
          "base_uri": "https://localhost:8080/"
        },
        "id": "FgnzJFflUDYT",
        "outputId": "5367a720-4041-4c46-8526-dacb114f155e"
      },
      "execution_count": 7,
      "outputs": [
        {
          "output_type": "stream",
          "name": "stdout",
          "text": [
            "  Ticker Symbol Full Name of Stock Current Market Price Target Mean Price  \\\n",
            "0          AAPL         Apple Inc.              227.725            240.58   \n",
            "\n",
            "  52 week high 52 week low      Top 5 Trending Stocks  \n",
            "0       237.23      164.08  AMSC, PWR, VRT, BBD, SNAP  \n"
          ]
        }
      ]
    },
    {
      "cell_type": "code",
      "source": [
        "csv_filename = f\"{ticker_symbol}_stock_info.csv\"\n",
        "df.to_csv(csv_filename, index=False)\n",
        "\n",
        "print(f\"Data has been saved to '{csv_filename}'.\")"
      ],
      "metadata": {
        "colab": {
          "base_uri": "https://localhost:8080/"
        },
        "id": "YwUSpI3VLeH9",
        "outputId": "4f45f0ce-80c3-4775-8920-456e1e53382a"
      },
      "execution_count": 8,
      "outputs": [
        {
          "output_type": "stream",
          "name": "stdout",
          "text": [
            "Data has been saved to 'AAPL_stock_info.csv'.\n"
          ]
        }
      ]
    },
    {
      "cell_type": "markdown",
      "source": [
        "# 4. Handle Errors ✅\n",
        "\n",
        "(IE, the stock doesn’t exist and/or the API is not returning information)✅\n",
        "\n",
        "(Done in code above!)\n",
        "\n"
      ],
      "metadata": {
        "id": "C6bV29DuUD6k"
      }
    },
    {
      "cell_type": "markdown",
      "source": [
        "# Bonus\n",
        "\n",
        "Use MatPlotLib to chart the historical price of a stock price’s highest value over the past\n",
        "5 days."
      ],
      "metadata": {
        "id": "k3nnQJnXUJ8i"
      }
    },
    {
      "cell_type": "code",
      "source": [
        "bonus_url = \"https://yfapi.net/v8/finance/chart/\" + ticker_symbol\n",
        "\n",
        "bonus_querystring = {\"range\": \"5d\",\n",
        "                     \"region\": \"US\",\n",
        "                     \"interval\": \"1d\"}\n",
        "\n",
        "bonus_response = requests.request(\"GET\", bonus_url, headers=headers, params=bonus_querystring)\n",
        "\n",
        "bonus_json = bonus_response.json()\n",
        "print(bonus_json)"
      ],
      "metadata": {
        "colab": {
          "base_uri": "https://localhost:8080/"
        },
        "id": "F6hn7f2DUM-P",
        "outputId": "66a2c575-8188-4499-d5a3-f5285ae226ad"
      },
      "execution_count": 9,
      "outputs": [
        {
          "output_type": "stream",
          "name": "stdout",
          "text": [
            "{'chart': {'result': [{'meta': {'currency': 'USD', 'symbol': 'AAPL', 'exchangeName': 'NMS', 'fullExchangeName': 'NasdaqGS', 'instrumentType': 'EQUITY', 'firstTradeDate': 345479400, 'regularMarketTime': 1727467204, 'hasPrePostMarketData': True, 'gmtoffset': -14400, 'timezone': 'EDT', 'exchangeTimezoneName': 'America/New_York', 'regularMarketPrice': 227.725, 'fiftyTwoWeekHigh': 229.52, 'fiftyTwoWeekLow': 227.3, 'regularMarketDayHigh': 229.52, 'regularMarketDayLow': 227.3, 'regularMarketVolume': 34025967, 'longName': 'Apple Inc.', 'shortName': 'Apple Inc.', 'chartPreviousClose': 228.2, 'priceHint': 2, 'currentTradingPeriod': {'pre': {'timezone': 'EDT', 'start': 1727424000, 'end': 1727443800, 'gmtoffset': -14400}, 'regular': {'timezone': 'EDT', 'start': 1727443800, 'end': 1727467200, 'gmtoffset': -14400}, 'post': {'timezone': 'EDT', 'start': 1727467200, 'end': 1727481600, 'gmtoffset': -14400}}, 'dataGranularity': '1d', 'range': '5d', 'validRanges': ['1d', '5d', '1mo', '3mo', '6mo', '1y', '2y', '5y', '10y', 'ytd', 'max']}, 'timestamp': [1727098200, 1727184600, 1727271000, 1727357400, 1727443800], 'indicators': {'quote': [{'volume': [54146000, 43556100, 42308700, 36636700, 33993600], 'open': [227.33999633789062, 228.64999389648438, 224.92999267578125, 227.3000030517578, 228.4600067138672], 'low': [225.80999755859375, 225.72999572753906, 224.02000427246094, 225.41000366210938, 227.3000030517578], 'close': [226.47000122070312, 227.3699951171875, 226.3699951171875, 227.52000427246094, 227.7899932861328], 'high': [229.4499969482422, 229.35000610351562, 227.2899932861328, 228.5, 229.52000427246094]}], 'adjclose': [{'adjclose': [226.47000122070312, 227.3699951171875, 226.3699951171875, 227.52000427246094, 227.7899932861328]}]}}], 'error': None}}\n"
          ]
        }
      ]
    },
    {
      "cell_type": "code",
      "source": [
        "highest_values_over_5d = bonus_json[\"chart\"][\"result\"][0][\"indicators\"][\"quote\"][0][\"high\"]\n",
        "\n",
        "df_bonus = pd.DataFrame(highest_values_over_5d)\n",
        "print(df_bonus)"
      ],
      "metadata": {
        "colab": {
          "base_uri": "https://localhost:8080/"
        },
        "id": "z78JSz4-Sv_d",
        "outputId": "4eeb2486-d583-40fe-b25a-5df7f595a78f"
      },
      "execution_count": 10,
      "outputs": [
        {
          "output_type": "stream",
          "name": "stdout",
          "text": [
            "            0\n",
            "0  229.449997\n",
            "1  229.350006\n",
            "2  227.289993\n",
            "3  228.500000\n",
            "4  229.520004\n"
          ]
        }
      ]
    },
    {
      "cell_type": "code",
      "source": [
        "# Set index to start from 1 (for days 1-5)\n",
        "df_bonus.index = range(1, len(df_bonus) + 1)\n",
        "\n",
        "# Plot the data\n",
        "df_bonus.plot(kind='line', figsize=(10, 6), marker='o')\n",
        "plt.title(f\"Historical Highest Value of {ticker_symbol} Stock Over the Past 5 Days\")\n",
        "plt.xlabel(\"Day\")\n",
        "plt.ylabel(\"Price Value\")\n",
        "plt.xticks(ticks=df_bonus.index)\n",
        "plt.grid(True)\n",
        "plt.show()"
      ],
      "metadata": {
        "colab": {
          "base_uri": "https://localhost:8080/",
          "height": 564
        },
        "id": "uJlnYUPnTPTJ",
        "outputId": "3a4e7160-06cd-4011-f430-2acc5db674e7"
      },
      "execution_count": 11,
      "outputs": [
        {
          "output_type": "display_data",
          "data": {
            "text/plain": [
              "<Figure size 1000x600 with 1 Axes>"
            ],
            "image/png": "[encoded data removed]"
          },
          "metadata": {}
        }
      ]
    }
  ]
}