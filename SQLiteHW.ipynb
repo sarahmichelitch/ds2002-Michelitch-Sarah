{
  "nbformat": 4,
  "nbformat_minor": 0,
  "metadata": {
    "colab": {
      "provenance": []
    },
    "kernelspec": {
      "name": "python3",
      "display_name": "Python 3"
    },
    "language_info": {
      "name": "python"
    }
  },
  "cells": [
    {
      "cell_type": "markdown",
      "source": [
        "# 1. Set Up the Database"
      ],
      "metadata": {
        "id": "k0eyiIHaQBSz"
      }
    },
    {
      "cell_type": "code",
      "source": [
        "import sqlite3\n",
        "\n",
        "# Create a connection to the db\n",
        "connection = sqlite3.connect('student_grades.db')\n",
        "\n",
        "# Create a cursor object\n",
        "cursor = connection.cursor()"
      ],
      "metadata": {
        "id": "buuT4y4EQIIr"
      },
      "execution_count": 1,
      "outputs": []
    },
    {
      "cell_type": "markdown",
      "source": [
        "# 2. Create the Necessary Tables"
      ],
      "metadata": {
        "id": "po5EqIg_QqGJ"
      }
    },
    {
      "cell_type": "markdown",
      "source": [
        "Create the students table"
      ],
      "metadata": {
        "id": "JXcTV4fWerzG"
      }
    },
    {
      "cell_type": "code",
      "source": [
        "cursor.execute('''\n",
        "CREATE TABLE IF NOT EXISTS students (\n",
        "    student_id INTEGER PRIMARY KEY AUTOINCREMENT,\n",
        "    first_name TEXT NOT NULL,\n",
        "    last_name TEXT NOT NULL\n",
        ")\n",
        "''')\n",
        "\n",
        "print(\"Students table created!\")"
      ],
      "metadata": {
        "colab": {
          "base_uri": "https://localhost:8080/"
        },
        "id": "as_RWz7tQtRE",
        "outputId": "3e2ed015-e583-4c9d-8a44-824bbe2ac299"
      },
      "execution_count": 2,
      "outputs": [
        {
          "output_type": "stream",
          "name": "stdout",
          "text": [
            "Students table created!\n"
          ]
        }
      ]
    },
    {
      "cell_type": "markdown",
      "source": [
        "Create the grades table"
      ],
      "metadata": {
        "id": "C5Ob1VfEevDB"
      }
    },
    {
      "cell_type": "code",
      "source": [
        "cursor.execute('''\n",
        "CREATE TABLE IF NOT EXISTS grades (\n",
        "    grade_id INTEGER PRIMARY KEY AUTOINCREMENT,\n",
        "    student_id INTEGER NOT NULL,\n",
        "    subject TEXT NOT NULL,\n",
        "    grade INTEGER NOT NULL,\n",
        "    FOREIGN KEY (student_id) REFERENCES students (student_id)\n",
        ")\n",
        "''')\n",
        "\n",
        "print(\"Grades table created!\")"
      ],
      "metadata": {
        "colab": {
          "base_uri": "https://localhost:8080/"
        },
        "id": "ZaAMoAGRRDcu",
        "outputId": "6fbc05ed-e1e2-4c0f-d0e1-258d85096124"
      },
      "execution_count": 3,
      "outputs": [
        {
          "output_type": "stream",
          "name": "stdout",
          "text": [
            "Grades table created!\n"
          ]
        }
      ]
    },
    {
      "cell_type": "markdown",
      "source": [
        "# 3. Insert into the Tables"
      ],
      "metadata": {
        "id": "oZjpma1yRrZY"
      }
    },
    {
      "cell_type": "markdown",
      "source": [
        "Insert into the students table"
      ],
      "metadata": {
        "id": "UcFcN3hFXd4i"
      }
    },
    {
      "cell_type": "code",
      "source": [
        "students_data = [\n",
        "    ('Alice', 'Johnson'),\n",
        "    ('Bob', 'Smith'),\n",
        "    ('Carol', 'White'),\n",
        "    ('David', 'Brown'),\n",
        "    ('Eve', 'Green')\n",
        "]\n",
        "\n",
        "# Insert data into the table\n",
        "cursor.executemany('''\n",
        "INSERT INTO students (first_name, last_name) VALUES (?, ?)\n",
        "''', students_data)\n",
        "\n",
        "# Commit the transaction\n",
        "connection.commit()"
      ],
      "metadata": {
        "id": "cKYZiYKsRulX"
      },
      "execution_count": 4,
      "outputs": []
    },
    {
      "cell_type": "markdown",
      "source": [
        "Insert into the grades table"
      ],
      "metadata": {
        "id": "n4Wa4b_8Xm6w"
      }
    },
    {
      "cell_type": "code",
      "source": [
        "grades_data = [\n",
        "    (1, 'Math', 95),\n",
        "    (1, 'English', 88),\n",
        "    (1, 'History', 90),\n",
        "    (2, 'Math', 82),\n",
        "    (2, 'English', 76),\n",
        "    (2, 'History', 85),\n",
        "    (3, 'Math', 99),\n",
        "    (3, 'English', 98),\n",
        "    (3, 'History', 92),\n",
        "    (4, 'Math', 73),\n",
        "    (4, 'English', 79),\n",
        "    (4, 'History', 86),\n",
        "    (5, 'Math', 86),\n",
        "    (5, 'English', 89),\n",
        "    (5, 'History', 91)\n",
        "]\n",
        "\n",
        "# Insert data into the data\n",
        "cursor.executemany('''\n",
        "INSERT INTO grades (student_id, subject, grade) VALUES (?, ?, ?)\n",
        "''', grades_data)\n",
        "\n",
        "# Commit the transaction\n",
        "connection.commit()"
      ],
      "metadata": {
        "id": "kq-vSor6Xji-"
      },
      "execution_count": 5,
      "outputs": []
    },
    {
      "cell_type": "markdown",
      "source": [
        "# 4. Perform SQL Queries"
      ],
      "metadata": {
        "id": "S4tEh4VMZ8i1"
      }
    },
    {
      "cell_type": "markdown",
      "source": [
        "1. Retrieve all students' names and their grades"
      ],
      "metadata": {
        "id": "iUZZCdO5egF-"
      }
    },
    {
      "cell_type": "code",
      "source": [
        "cursor.execute('''SELECT students.first_name, students.last_name, grades.grade\n",
        "                  FROM students\n",
        "                  JOIN grades ON students.student_id = grades.student_id;''')\n",
        "rows = cursor.fetchall()\n",
        "\n",
        "# Print the results\n",
        "print(\"All students names and grades:\")\n",
        "for row in rows:\n",
        "    print(row)"
      ],
      "metadata": {
        "colab": {
          "base_uri": "https://localhost:8080/"
        },
        "id": "Xd8vEmUpaR8m",
        "outputId": "96711bd5-7bd2-4d6c-e4d0-c0d980c4043d"
      },
      "execution_count": 6,
      "outputs": [
        {
          "output_type": "stream",
          "name": "stdout",
          "text": [
            "All students names and grades:\n",
            "('Alice', 'Johnson', 95)\n",
            "('Alice', 'Johnson', 88)\n",
            "('Alice', 'Johnson', 90)\n",
            "('Bob', 'Smith', 82)\n",
            "('Bob', 'Smith', 76)\n",
            "('Bob', 'Smith', 85)\n",
            "('Carol', 'White', 99)\n",
            "('Carol', 'White', 98)\n",
            "('Carol', 'White', 92)\n",
            "('David', 'Brown', 73)\n",
            "('David', 'Brown', 79)\n",
            "('David', 'Brown', 86)\n",
            "('Eve', 'Green', 86)\n",
            "('Eve', 'Green', 89)\n",
            "('Eve', 'Green', 91)\n",
            "('Alice', 'Johnson', 95)\n",
            "('Alice', 'Johnson', 88)\n",
            "('Alice', 'Johnson', 90)\n",
            "('Bob', 'Smith', 82)\n",
            "('Bob', 'Smith', 76)\n",
            "('Bob', 'Smith', 85)\n",
            "('Carol', 'White', 99)\n",
            "('Carol', 'White', 98)\n",
            "('Carol', 'White', 92)\n",
            "('David', 'Brown', 73)\n",
            "('David', 'Brown', 79)\n",
            "('David', 'Brown', 86)\n",
            "('Eve', 'Green', 86)\n",
            "('Eve', 'Green', 89)\n",
            "('Eve', 'Green', 91)\n",
            "('Alice', 'Johnson', 95)\n",
            "('Alice', 'Johnson', 88)\n",
            "('Alice', 'Johnson', 90)\n",
            "('Bob', 'Smith', 82)\n",
            "('Bob', 'Smith', 76)\n",
            "('Bob', 'Smith', 85)\n",
            "('Carol', 'White', 99)\n",
            "('Carol', 'White', 98)\n",
            "('Carol', 'White', 92)\n",
            "('David', 'Brown', 73)\n",
            "('David', 'Brown', 79)\n",
            "('David', 'Brown', 86)\n",
            "('Eve', 'Green', 86)\n",
            "('Eve', 'Green', 89)\n",
            "('Eve', 'Green', 91)\n",
            "('Alice', 'Johnson', 95)\n",
            "('Alice', 'Johnson', 88)\n",
            "('Alice', 'Johnson', 90)\n",
            "('Bob', 'Smith', 82)\n",
            "('Bob', 'Smith', 76)\n",
            "('Bob', 'Smith', 85)\n",
            "('Carol', 'White', 99)\n",
            "('Carol', 'White', 98)\n",
            "('Carol', 'White', 92)\n",
            "('David', 'Brown', 73)\n",
            "('David', 'Brown', 79)\n",
            "('David', 'Brown', 86)\n",
            "('Eve', 'Green', 86)\n",
            "('Eve', 'Green', 89)\n",
            "('Eve', 'Green', 91)\n",
            "('Alice', 'Johnson', 95)\n",
            "('Alice', 'Johnson', 88)\n",
            "('Alice', 'Johnson', 90)\n",
            "('Bob', 'Smith', 82)\n",
            "('Bob', 'Smith', 76)\n",
            "('Bob', 'Smith', 85)\n",
            "('Carol', 'White', 99)\n",
            "('Carol', 'White', 98)\n",
            "('Carol', 'White', 92)\n",
            "('David', 'Brown', 73)\n",
            "('David', 'Brown', 79)\n",
            "('David', 'Brown', 86)\n",
            "('Eve', 'Green', 86)\n",
            "('Eve', 'Green', 89)\n",
            "('Eve', 'Green', 91)\n"
          ]
        }
      ]
    },
    {
      "cell_type": "markdown",
      "source": [
        "2. Find the average grade for each student"
      ],
      "metadata": {
        "id": "Z9EGrttcecOm"
      }
    },
    {
      "cell_type": "code",
      "source": [
        "cursor.execute('''SELECT AVG(grades.grade) AS average_grade, students.first_name, students.last_name\n",
        "                  FROM students\n",
        "                  JOIN grades ON students.student_id = grades.student_id\n",
        "                  GROUP BY students.student_id, students.first_name, students.last_name;''')\n",
        "\n",
        "rows = cursor.fetchall()\n",
        "\n",
        "# Print the results\n",
        "print(\"Average grade for each student:\")\n",
        "for row in rows:\n",
        "    print(row)"
      ],
      "metadata": {
        "colab": {
          "base_uri": "https://localhost:8080/"
        },
        "id": "982NGpOkY8oX",
        "outputId": "e86a525b-5189-4bf8-fe84-22a6ac9bbd7b"
      },
      "execution_count": 7,
      "outputs": [
        {
          "output_type": "stream",
          "name": "stdout",
          "text": [
            "Average grade for each student:\n",
            "(91.0, 'Alice', 'Johnson')\n",
            "(81.0, 'Bob', 'Smith')\n",
            "(96.33333333333333, 'Carol', 'White')\n",
            "(79.33333333333333, 'David', 'Brown')\n",
            "(88.66666666666667, 'Eve', 'Green')\n"
          ]
        }
      ]
    },
    {
      "cell_type": "markdown",
      "source": [
        "3. Find the student with the highest average grade"
      ],
      "metadata": {
        "id": "IjF8wRd7eYs5"
      }
    },
    {
      "cell_type": "code",
      "source": [
        "cursor.execute('''SELECT AVG(grades.grade) AS average_grade, students.first_name, students.last_name\n",
        "                  FROM students\n",
        "                  JOIN grades ON students.student_id = grades.student_id\n",
        "                  GROUP BY students.student_id, students.first_name, students.last_name\n",
        "                  ORDER BY average_grade DESC\n",
        "                  LIMIT 1;''')\n",
        "\n",
        "rows = cursor.fetchall()\n",
        "print(\"Student with the highest average grade:\")\n",
        "for row in rows:\n",
        "    print(row)"
      ],
      "metadata": {
        "colab": {
          "base_uri": "https://localhost:8080/"
        },
        "id": "jyCjr06xZzJh",
        "outputId": "e5e38f08-0b3a-49a2-b402-24da55dd4aca"
      },
      "execution_count": 8,
      "outputs": [
        {
          "output_type": "stream",
          "name": "stdout",
          "text": [
            "Student with the highest average grade:\n",
            "(96.33333333333333, 'Carol', 'White')\n"
          ]
        }
      ]
    },
    {
      "cell_type": "markdown",
      "source": [
        "4. Find the average grade for the Math subject"
      ],
      "metadata": {
        "id": "Ys_MJx-8eVB_"
      }
    },
    {
      "cell_type": "code",
      "source": [
        "cursor.execute('''SELECT AVG(grades.grade) AS average_math_grade\n",
        "                  FROM students\n",
        "                  JOIN grades on students.student_id = grades.student_id\n",
        "                  WHERE grades.subject = 'Math';''')\n",
        "\n",
        "rows = cursor.fetchall()\n",
        "print(\"Average math grade:\")\n",
        "for row in rows:\n",
        "    print(row)"
      ],
      "metadata": {
        "colab": {
          "base_uri": "https://localhost:8080/"
        },
        "id": "Su36KRwmav75",
        "outputId": "7d2c412c-4e94-4962-ded4-ab3e7366bffd"
      },
      "execution_count": 9,
      "outputs": [
        {
          "output_type": "stream",
          "name": "stdout",
          "text": [
            "Average math grade:\n",
            "(87.0,)\n"
          ]
        }
      ]
    },
    {
      "cell_type": "markdown",
      "source": [
        "5. List all students who scored above 90 in any subject"
      ],
      "metadata": {
        "id": "1I2K_wapeQ9_"
      }
    },
    {
      "cell_type": "code",
      "source": [
        "cursor.execute('''SELECT DISTINCT students.first_name, students.last_name\n",
        "                  FROM students\n",
        "                  JOIN grades ON students.student_id = grades.student_id\n",
        "                  WHERE grades.grade > 90''')\n",
        "\n",
        "rows = cursor.fetchall()\n",
        "print(\"Students who scored above 90 in any subject:\")\n",
        "for row in rows:\n",
        "    print(row)"
      ],
      "metadata": {
        "colab": {
          "base_uri": "https://localhost:8080/"
        },
        "id": "T-GgqagbbgIf",
        "outputId": "6fa9f292-62c3-4b43-af76-02714fd9a8b0"
      },
      "execution_count": 10,
      "outputs": [
        {
          "output_type": "stream",
          "name": "stdout",
          "text": [
            "Students who scored above 90 in any subject:\n",
            "('Alice', 'Johnson')\n",
            "('Carol', 'White')\n",
            "('Eve', 'Green')\n"
          ]
        }
      ]
    },
    {
      "cell_type": "markdown",
      "source": [
        "# 5. Load Data into Pandas"
      ],
      "metadata": {
        "id": "AUHLgL-jdpN1"
      }
    },
    {
      "cell_type": "markdown",
      "source": [
        " 1. Use Pandas to load the data from the students and grades tables into DataFrames"
      ],
      "metadata": {
        "id": "4PUVcOJBeLtD"
      }
    },
    {
      "cell_type": "code",
      "source": [
        "import pandas as pd\n",
        "\n",
        "students_df = pd.read_sql_query('SELECT * FROM students', connection)\n",
        "grades_df = pd.read_sql_query('SELECT * FROM grades', connection)\n",
        "\n",
        "# View the DataFrames\n",
        "print(\"Students DataFrame:\")\n",
        "print(students_df)\n",
        "print(\"\\nGrades DataFrame:\")\n",
        "print(grades_df)"
      ],
      "metadata": {
        "colab": {
          "base_uri": "https://localhost:8080/"
        },
        "id": "_w8XVHC7dsYU",
        "outputId": "fa0fda9f-8955-430e-e352-5b38e2d1e973"
      },
      "execution_count": 11,
      "outputs": [
        {
          "output_type": "stream",
          "name": "stdout",
          "text": [
            "Students DataFrame:\n",
            "    student_id first_name last_name\n",
            "0            1      Alice   Johnson\n",
            "1            2        Bob     Smith\n",
            "2            3      Carol     White\n",
            "3            4      David     Brown\n",
            "4            5        Eve     Green\n",
            "5            6      Alice   Johnson\n",
            "6            7        Bob     Smith\n",
            "7            8      Carol     White\n",
            "8            9      David     Brown\n",
            "9           10        Eve     Green\n",
            "10          11      Alice   Johnson\n",
            "11          12        Bob     Smith\n",
            "12          13      Carol     White\n",
            "13          14      David     Brown\n",
            "14          15        Eve     Green\n",
            "15          16      Alice   Johnson\n",
            "16          17        Bob     Smith\n",
            "17          18      Carol     White\n",
            "18          19      David     Brown\n",
            "19          20        Eve     Green\n",
            "20          21      Alice   Johnson\n",
            "21          22        Bob     Smith\n",
            "22          23      Carol     White\n",
            "23          24      David     Brown\n",
            "24          25        Eve     Green\n",
            "\n",
            "Grades DataFrame:\n",
            "    grade_id  student_id  subject  grade\n",
            "0          1           1     Math     95\n",
            "1          2           1  English     88\n",
            "2          3           1  History     90\n",
            "3          4           2     Math     82\n",
            "4          5           2  English     76\n",
            "..       ...         ...      ...    ...\n",
            "70        71           4  English     79\n",
            "71        72           4  History     86\n",
            "72        73           5     Math     86\n",
            "73        74           5  English     89\n",
            "74        75           5  History     91\n",
            "\n",
            "[75 rows x 4 columns]\n"
          ]
        }
      ]
    },
    {
      "cell_type": "markdown",
      "source": [
        "2. Use JOIN queries to combine the data from both tables into a single DataFrame that includes each student's name, subject, and grade"
      ],
      "metadata": {
        "id": "1tlau2W0e8Zy"
      }
    },
    {
      "cell_type": "code",
      "source": [
        "student_grade_subject_df = pd.read_sql_query('''SELECT students.first_name, students.last_name, grades.subject, grades.grade\n",
        "                                                FROM students\n",
        "                                                JOIN grades ON students.student_id = grades.student_id''', connection)\n",
        "\n",
        "print(\"Student Grade Subject DataFrame:\")\n",
        "print(student_grade_subject_df)"
      ],
      "metadata": {
        "colab": {
          "base_uri": "https://localhost:8080/"
        },
        "id": "tF1n5aZ4fEJN",
        "outputId": "3d531b74-7045-4a26-d4e9-4f902fcb728c"
      },
      "execution_count": 12,
      "outputs": [
        {
          "output_type": "stream",
          "name": "stdout",
          "text": [
            "Student Grade Subject DataFrame:\n",
            "   first_name last_name  subject  grade\n",
            "0       Alice   Johnson     Math     95\n",
            "1       Alice   Johnson  English     88\n",
            "2       Alice   Johnson  History     90\n",
            "3         Bob     Smith     Math     82\n",
            "4         Bob     Smith  English     76\n",
            "..        ...       ...      ...    ...\n",
            "70      David     Brown  English     79\n",
            "71      David     Brown  History     86\n",
            "72        Eve     Green     Math     86\n",
            "73        Eve     Green  English     89\n",
            "74        Eve     Green  History     91\n",
            "\n",
            "[75 rows x 4 columns]\n"
          ]
        }
      ]
    },
    {
      "cell_type": "markdown",
      "source": [
        "3. Visualize the data with Matplotlib"
      ],
      "metadata": {
        "id": "l6qDAXHTflE8"
      }
    },
    {
      "cell_type": "markdown",
      "source": [
        "Plot the average grades for each student"
      ],
      "metadata": {
        "id": "MROw_JJOft3R"
      }
    },
    {
      "cell_type": "code",
      "source": [
        "import matplotlib.pyplot as plt\n",
        "\n",
        "# Get DataFrame of the average grade for each student\n",
        "student_avg_grade_df = student_grade_subject_df.groupby(['first_name', 'last_name'])['grade'].mean().reset_index() # reset_index() makes first_name and last_naem normal columns again\n",
        "student_avg_grade_df.rename(columns={'grade': 'avg_grade'}, inplace=True)\n",
        "\n",
        "# Double check that it looks right\n",
        "print(\"Average Grade by Student:\")\n",
        "print(student_avg_grade_df)\n",
        "\n",
        "# Plot the DataFrame\n",
        "plt.figure(figsize=(10,6))\n",
        "plt.bar(student_avg_grade_df['last_name'], student_avg_grade_df['avg_grade'], color='lightgreen')\n",
        "plt.xlabel('Student Last Name')\n",
        "plt.ylabel('Average Grade')\n",
        "plt.title('Average Grade by Student')\n",
        "plt.show()"
      ],
      "metadata": {
        "colab": {
          "base_uri": "https://localhost:8080/",
          "height": 692
        },
        "id": "-Ytg3dtIfo1C",
        "outputId": "e7ecf7a9-6cbb-485c-cf9b-240718c2e193"
      },
      "execution_count": 13,
      "outputs": [
        {
          "output_type": "stream",
          "name": "stdout",
          "text": [
            "Average Grade by Student:\n",
            "  first_name last_name  avg_grade\n",
            "0      Alice   Johnson  91.000000\n",
            "1        Bob     Smith  81.000000\n",
            "2      Carol     White  96.333333\n",
            "3      David     Brown  79.333333\n",
            "4        Eve     Green  88.666667\n"
          ]
        },
        {
          "output_type": "display_data",
          "data": {
            "text/plain": [
              "<Figure size 1000x600 with 1 Axes>"
            ],
            "image/png": "[encoded data removed]"
          },
          "metadata": {}
        }
      ]
    },
    {
      "cell_type": "markdown",
      "source": [
        "Create a bar chart showing the average grade for each subject"
      ],
      "metadata": {
        "id": "zkFj6Lbgw0DC"
      }
    },
    {
      "cell_type": "code",
      "source": [
        "# Get DataFrame of the average grade for each subject\n",
        "subject_avg_grade_df = student_grade_subject_df.groupby('subject')['grade'].mean().reset_index()\n",
        "\n",
        "# Double check that it looks right\n",
        "print(\"Average Grade by Subject:\")\n",
        "print(subject_avg_grade_df)\n",
        "\n",
        "# Plot the DataFrame\n",
        "plt.figure(figsize=(10,6))\n",
        "plt.bar(subject_avg_grade_df['subject'], subject_avg_grade_df['grade'], color='lightblue')\n",
        "plt.xlabel('Subject')\n",
        "plt.ylabel('Average Grade')\n",
        "plt.title('Average Grade by Subject')\n",
        "plt.show()"
      ],
      "metadata": {
        "colab": {
          "base_uri": "https://localhost:8080/",
          "height": 655
        },
        "id": "O4w5thUdw3jQ",
        "outputId": "3cce2681-553d-4d0f-9a7c-5b31f694382f"
      },
      "execution_count": 14,
      "outputs": [
        {
          "output_type": "stream",
          "name": "stdout",
          "text": [
            "Average Grade by Subject:\n",
            "   subject  grade\n",
            "0  English   86.0\n",
            "1  History   88.8\n",
            "2     Math   87.0\n"
          ]
        },
        {
          "output_type": "display_data",
          "data": {
            "text/plain": [
              "<Figure size 1000x600 with 1 Axes>"
            ],
            "image/png": "[encoded data removed]"
          },
          "metadata": {}
        }
      ]
    },
    {
      "cell_type": "markdown",
      "source": [
        "# Bonus Task"
      ],
      "metadata": {
        "id": "PsSz2-uVx6qs"
      }
    },
    {
      "cell_type": "markdown",
      "source": [
        "Implement a query that find the student with the highest grade in each subject"
      ],
      "metadata": {
        "id": "PDslbIzYx9he"
      }
    },
    {
      "cell_type": "code",
      "source": [
        "highest_grade_per_subject_df = pd.read_sql_query('''SELECT grades.subject, students.first_name || ' ' || students.last_name AS full_name, MAX(grades.grade) AS highest_grade\n",
        "                  FROM students\n",
        "                  JOIN grades ON students.student_id = grades.student_id\n",
        "                  GROUP BY grades.subject''', connection)\n",
        "\n",
        "print(\"Student with the highest grade in each subject:\")\n",
        "print(highest_grade_per_subject_df)"
      ],
      "metadata": {
        "colab": {
          "base_uri": "https://localhost:8080/"
        },
        "id": "OZiqsFZkyFzC",
        "outputId": "a7b4b00d-d0da-42e1-dc97-39b5c9709a41"
      },
      "execution_count": 15,
      "outputs": [
        {
          "output_type": "stream",
          "name": "stdout",
          "text": [
            "Student with the highest grade in each subject:\n",
            "   subject    full_name  highest_grade\n",
            "0  English  Carol White             98\n",
            "1  History  Carol White             92\n",
            "2     Math  Carol White             99\n"
          ]
        }
      ]
    },
    {
      "cell_type": "markdown",
      "source": [
        "Visualize the results using a grouped bar chart"
      ],
      "metadata": {
        "id": "444RCtrAyCOE"
      }
    },
    {
      "cell_type": "code",
      "source": [
        "# Reformat the DataFrame\n",
        "pivot_df = highest_grade_per_subject_df.pivot(index='full_name', columns='subject', values='highest_grade').fillna(0)\n",
        "\n",
        "# Plot the grouped bar chart\n",
        "pivot_df.plot(kind='bar', figsize=(10, 6))\n",
        "plt.xlabel('Students')\n",
        "plt.ylabel('Max Grade')\n",
        "plt.title('Highest Grade in Each Subject')\n",
        "plt.xticks(rotation=45, ha='right')\n",
        "plt.show()"
      ],
      "metadata": {
        "colab": {
          "base_uri": "https://localhost:8080/",
          "height": 617
        },
        "id": "8bBytN9pyGqD",
        "outputId": "43ecd148-9a98-4550-e8b3-619f385bd152"
      },
      "execution_count": 16,
      "outputs": [
        {
          "output_type": "display_data",
          "data": {
            "text/plain": [
              "<Figure size 1000x600 with 1 Axes>"
            ],
            "image/png": "[encoded data removed]"
          },
          "metadata": {}
        }
      ]
    },
    {
      "cell_type": "code",
      "source": [
        "connection.close()"
      ],
      "metadata": {
        "id": "zOr-duCn-kc1"
      },
      "execution_count": 17,
      "outputs": []
    }
  ]
}